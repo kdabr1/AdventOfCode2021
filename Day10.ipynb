{
 "cells": [
  {
   "cell_type": "markdown",
   "id": "1b41e758-457a-49b1-8a37-f967f312e2eb",
   "metadata": {
    "tags": []
   },
   "source": [
    "--- Day 10: Syntax Scoring ---\n",
    "You ask the submarine to determine the best route out of the deep-sea cave, but it only replies:\n",
    "\n",
    "Syntax error in navigation subsystem on line: all of them\n",
    "All of them?! The damage is worse than you thought. You bring up a copy of the navigation subsystem (your puzzle input).\n",
    "\n",
    "The navigation subsystem syntax is made of several lines containing chunks. There are one or more chunks on each line, and chunks contain zero or more other chunks. Adjacent chunks are not separated by any delimiter; if one chunk stops, the next chunk (if any) can immediately start. Every chunk must open and close with one of four legal pairs of matching characters:\n",
    "\n",
    "If a chunk opens with (, it must close with ).\n",
    "If a chunk opens with [, it must close with ].\n",
    "If a chunk opens with {, it must close with }.\n",
    "If a chunk opens with <, it must close with >.\n",
    "So, () is a legal chunk that contains no other chunks, as is []. More complex but valid chunks include ([]), {()()()}, <([{}])>, [<>({}){}[([])<>]], and even (((((((((()))))))))).\n",
    "\n",
    "Some lines are incomplete, but others are corrupted. Find and discard the corrupted lines first.\n",
    "\n",
    "A corrupted line is one where a chunk closes with the wrong character - that is, where the characters it opens and closes with do not form one of the four legal pairs listed above.\n",
    "\n",
    "Examples of corrupted chunks include (], {()()()>, (((()))}, and <([]){()}[{}]). Such a chunk can appear anywhere within a line, and its presence causes the whole line to be considered corrupted.\n",
    "\n",
    "For example, consider the following navigation subsystem:\n",
    "\n",
    "[({(<(())[]>[[{[]{<()<>>\n",
    "[(()[<>])]({[<{<<[]>>(\n",
    "{([(<{}[<>[]}>{[]{[(<()>\n",
    "(((({<>}<{<{<>}{[]{[]{}\n",
    "[[<[([]))<([[{}[[()]]]\n",
    "[{[{({}]{}}([{[{{{}}([]\n",
    "{<[[]]>}<{[{[{[]{()[[[]\n",
    "[<(<(<(<{}))><([]([]()\n",
    "<{([([[(<>()){}]>(<<{{\n",
    "<{([{{}}[<[[[<>{}]]]>[]]\n",
    "Some of the lines aren't corrupted, just incomplete; you can ignore these lines for now. The remaining five lines are corrupted:\n",
    "\n",
    "{([(<{}[<>[]}>{[]{[(<()> - Expected ], but found } instead.\n",
    "[[<[([]))<([[{}[[()]]] - Expected ], but found ) instead.\n",
    "[{[{({}]{}}([{[{{{}}([] - Expected ), but found ] instead.\n",
    "[<(<(<(<{}))><([]([]() - Expected >, but found ) instead.\n",
    "<{([([[(<>()){}]>(<<{{ - Expected ], but found > instead.\n",
    "Stop at the first incorrect closing character on each corrupted line.\n",
    "\n",
    "Did you know that syntax checkers actually have contests to see who can get the high score for syntax errors in a file? It's true! To calculate the syntax error score for a line, take the first illegal character on the line and look it up in the following table:\n",
    "\n",
    "): 3 points.\n",
    "]: 57 points.\n",
    "}: 1197 points.\n",
    ">: 25137 points.\n",
    "In the above example, an illegal ) was found twice (2*3 = 6 points), an illegal ] was found once (57 points), an illegal } was found once (1197 points), and an illegal > was found once (25137 points). So, the total syntax error score for this file is 6+57+1197+25137 = 26397 points!\n",
    "\n",
    "Find the first illegal character in each corrupted line of the navigation subsystem. What is the total syntax error score for those errors?"
   ]
  },
  {
   "cell_type": "code",
   "execution_count": 55,
   "id": "0223ee14-af46-460b-906c-8bde4fca897e",
   "metadata": {
    "tags": []
   },
   "outputs": [
    {
     "data": {
      "text/html": [
       "<div>\n",
       "<style scoped>\n",
       "    .dataframe tbody tr th:only-of-type {\n",
       "        vertical-align: middle;\n",
       "    }\n",
       "\n",
       "    .dataframe tbody tr th {\n",
       "        vertical-align: top;\n",
       "    }\n",
       "\n",
       "    .dataframe thead th {\n",
       "        text-align: right;\n",
       "    }\n",
       "</style>\n",
       "<table border=\"1\" class=\"dataframe\">\n",
       "  <thead>\n",
       "    <tr style=\"text-align: right;\">\n",
       "      <th></th>\n",
       "      <th>Input</th>\n",
       "    </tr>\n",
       "  </thead>\n",
       "  <tbody>\n",
       "    <tr>\n",
       "      <th>0</th>\n",
       "      <td>&lt;{({(([[&lt;&lt;([[([][])]{([]&lt;&gt;)([]&lt;&gt;)}]&lt;[[[]{}]{()...</td>\n",
       "    </tr>\n",
       "    <tr>\n",
       "      <th>1</th>\n",
       "      <td>{&lt;[&lt;((&lt;&lt;({([{{{}[]}&lt;&lt;&gt;&lt;&gt;&gt;}]&lt;&lt;{[]&lt;&gt;}([]&lt;&gt;)&gt;&gt;)&lt;{...</td>\n",
       "    </tr>\n",
       "    <tr>\n",
       "      <th>2</th>\n",
       "      <td>&lt;{[[{&lt;[[{(&lt;[[({}())[()()]]([&lt;&gt;()](&lt;&gt;()))][(([]...</td>\n",
       "    </tr>\n",
       "    <tr>\n",
       "      <th>3</th>\n",
       "      <td>&lt;[[&lt;[([({[{&lt;[({}&lt;&gt;)([]&lt;&gt;)](&lt;&lt;&gt;[]&gt;([]()))&gt;&lt;[&lt;[]...</td>\n",
       "    </tr>\n",
       "    <tr>\n",
       "      <th>4</th>\n",
       "      <td>[((&lt;{((([[&lt;&lt;&lt;[&lt;&gt;&lt;&gt;]{{}[]}&gt;&gt;(([&lt;&gt;&lt;&gt;]&lt;()[]&gt;)&lt;(()...</td>\n",
       "    </tr>\n",
       "  </tbody>\n",
       "</table>\n",
       "</div>"
      ],
      "text/plain": [
       "                                               Input\n",
       "0  <{({(([[<<([[([][])]{([]<>)([]<>)}]<[[[]{}]{()...\n",
       "1  {<[<((<<({([{{{}[]}<<><>>}]<<{[]<>}([]<>)>>)<{...\n",
       "2  <{[[{<[[{(<[[({}())[()()]]([<>()](<>()))][(([]...\n",
       "3  <[[<[([({[{<[({}<>)([]<>)](<<>[]>([]()))><[<[]...\n",
       "4  [((<{((([[<<<[<><>]{{}[]}>>(([<><>]<()[]>)<(()..."
      ]
     },
     "execution_count": 55,
     "metadata": {},
     "output_type": "execute_result"
    }
   ],
   "source": [
    "import pandas as pd\n",
    "import statistics\n",
    "\n",
    "df = pd.read_csv('10.txt', names = ['Input'], header=None)\n",
    "df.head()"
   ]
  },
  {
   "cell_type": "code",
   "execution_count": 22,
   "id": "81528b3c-a5fc-48a4-89b5-a02428dcc35d",
   "metadata": {},
   "outputs": [],
   "source": [
    "opens = ['{', '[', '<', '(']\n",
    "closes = ['}', ']', '>', ')']\n",
    "pairs = dict(zip(opens,closes))\n",
    "points = dict(zip(closes, [1197, 57, 25137, 3]))"
   ]
  },
  {
   "cell_type": "code",
   "execution_count": 33,
   "id": "6df5f459-3800-4bda-8ef6-18cffff6af31",
   "metadata": {},
   "outputs": [
    {
     "name": "stdout",
     "output_type": "stream",
     "text": [
      "Answer:  316851\n"
     ]
    }
   ],
   "source": [
    "#x - total syntax error score\n",
    "#code - each line of code to crack\n",
    "#expected - list oxpected closings, depending on what openings there are in the code\n",
    "#char = each character in the code\n",
    "\n",
    "x = 0\n",
    "for code in df['Input']: \n",
    "    expected = []\n",
    "    for char in code:\n",
    "        if char in opens:\n",
    "            expected.append(pairs[char])\n",
    "        else:\n",
    "            if char == expected[-1]:\n",
    "                expected.pop()\n",
    "            else:\n",
    "                x += points[char]\n",
    "                break\n",
    "print('Answer: ', x)"
   ]
  },
  {
   "cell_type": "raw",
   "id": "b6e7e6d1-ba3b-47bb-89bd-134a75de57fd",
   "metadata": {
    "tags": []
   },
   "source": [
    "--- Part Two ---\n",
    "Now, discard the corrupted lines. The remaining lines are incomplete.\n",
    "\n",
    "Incomplete lines don't have any incorrect characters - instead, they're missing some closing characters at the end of the line. To repair the navigation subsystem, you just need to figure out the sequence of closing characters that complete all open chunks in the line.\n",
    "\n",
    "You can only use closing characters (), ], }, or >), and you must add them in the correct order so that only legal pairs are formed and all chunks end up closed.\n",
    "\n",
    "In the example above, there are five incomplete lines:\n",
    "\n",
    "[({(<(())[]>[[{[]{<()<>> - Complete by adding }}]])})].\n",
    "[(()[<>])]({[<{<<[]>>( - Complete by adding )}>]}).\n",
    "(((({<>}<{<{<>}{[]{[]{} - Complete by adding }}>}>)))).\n",
    "{<[[]]>}<{[{[{[]{()[[[] - Complete by adding ]]}}]}]}>.\n",
    "<{([{{}}[<[[[<>{}]]]>[]] - Complete by adding ])}>.\n",
    "Did you know that autocomplete tools also have contests? It's true! The score is determined by considering the completion string character-by-character. Start with a total score of 0. Then, for each character, multiply the total score by 5 and then increase the total score by the point value given for the character in the following table:\n",
    "\n",
    "): 1 point.\n",
    "]: 2 points.\n",
    "}: 3 points.\n",
    ">: 4 points.\n",
    "So, the last completion string above - ])}> - would be scored as follows:\n",
    "\n",
    "Start with a total score of 0.\n",
    "Multiply the total score by 5 to get 0, then add the value of ] (2) to get a new total score of 2.\n",
    "Multiply the total score by 5 to get 10, then add the value of ) (1) to get a new total score of 11.\n",
    "Multiply the total score by 5 to get 55, then add the value of } (3) to get a new total score of 58.\n",
    "Multiply the total score by 5 to get 290, then add the value of > (4) to get a new total score of 294.\n",
    "The five lines' completion strings have total scores as follows:\n",
    "\n",
    "}}]])})] - 288957 total points.\n",
    ")}>]}) - 5566 total points.\n",
    "}}>}>)))) - 1480781 total points.\n",
    "]]}}]}]}> - 995444 total points.\n",
    "])}> - 294 total points.\n",
    "Autocomplete tools are an odd bunch: the winner is found by sorting all of the scores and then taking the middle score. (There will always be an odd number of scores to consider.) In this example, the middle score is 288957 because there are the same number of scores smaller and larger than it.\n",
    "\n",
    "Find the completion string for each incomplete line, score the completion strings, and sort the scores. What is the middle score?"
   ]
  },
  {
   "cell_type": "code",
   "execution_count": 34,
   "id": "92c5fd86-cff4-4fc1-9e78-cd65e69af7f9",
   "metadata": {},
   "outputs": [],
   "source": [
    "points2 = dict(zip(closes, [3, 2, 4, 1]))"
   ]
  },
  {
   "cell_type": "code",
   "execution_count": 57,
   "id": "3d440ab5-685c-4a84-a7e8-630679f8c473",
   "metadata": {},
   "outputs": [
    {
     "name": "stdout",
     "output_type": "stream",
     "text": [
      "Answer:  2182912364\n"
     ]
    }
   ],
   "source": [
    "#score - score of currently checked line of code\n",
    "#scores - list storing all the scores already calculated\n",
    "#code - each line of code to crack\n",
    "#expected - list oxpected closings, depending on what openings there are in the code\n",
    "#char = each character in the code\n",
    "\n",
    "scores = []\n",
    "for code in df['Input']:\n",
    "    score = 0\n",
    "    expected = []\n",
    "    for char in code:\n",
    "        if char in opens:\n",
    "            expected.append(pairs[char])\n",
    "        else:\n",
    "            if char == expected[-1]:\n",
    "                expected.pop()\n",
    "            else: \n",
    "                expected.clear()\n",
    "                break  \n",
    "    else:       \n",
    "        expected.reverse()\n",
    "        for exp in expected:\n",
    "            score *= 5\n",
    "            score += points2[exp]\n",
    "        scores.append(score)\n",
    "scores.sort()\n",
    "print('Answer: ', statistics.median(scores))"
   ]
  },
  {
   "cell_type": "code",
   "execution_count": null,
   "id": "605a4f0e-13d7-4d46-bea2-ce4530e15589",
   "metadata": {},
   "outputs": [],
   "source": []
  }
 ],
 "metadata": {
  "kernelspec": {
   "display_name": "Python 3 (ipykernel)",
   "language": "python",
   "name": "python3"
  },
  "language_info": {
   "codemirror_mode": {
    "name": "ipython",
    "version": 3
   },
   "file_extension": ".py",
   "mimetype": "text/x-python",
   "name": "python",
   "nbconvert_exporter": "python",
   "pygments_lexer": "ipython3",
   "version": "3.7.12"
  }
 },
 "nbformat": 4,
 "nbformat_minor": 5
}

{
 "cells": [
  {
   "cell_type": "raw",
   "id": "6f6be7ed-e8e0-486c-90f3-4804fcebe873",
   "metadata": {},
   "source": [
    "--- Day 5: Hydrothermal Venture ---\n",
    "You come across a field of hydrothermal vents on the ocean floor! These vents constantly produce large, opaque clouds, so it would be best to avoid them if possible.\n",
    "\n",
    "They tend to form in lines; the submarine helpfully produces a list of nearby lines of vents (your puzzle input) for you to review. For example:\n",
    "\n",
    "0,9 -> 5,9\n",
    "8,0 -> 0,8\n",
    "9,4 -> 3,4\n",
    "2,2 -> 2,1\n",
    "7,0 -> 7,4\n",
    "6,4 -> 2,0\n",
    "0,9 -> 2,9\n",
    "3,4 -> 1,4\n",
    "0,0 -> 8,8\n",
    "5,5 -> 8,2\n",
    "Each line of vents is given as a line segment in the format x1,y1 -> x2,y2 where x1,y1 are the coordinates of one end the line segment and x2,y2 are the coordinates of the other end. These line segments include the points at both ends. In other words:\n",
    "\n",
    "An entry like 1,1 -> 1,3 covers points 1,1, 1,2, and 1,3.\n",
    "An entry like 9,7 -> 7,7 covers points 9,7, 8,7, and 7,7.\n",
    "For now, only consider horizontal and vertical lines: lines where either x1 = x2 or y1 = y2.\n",
    "\n",
    "So, the horizontal and vertical lines from the above list would produce the following diagram:\n",
    "\n",
    ".......1..\n",
    "..1....1..\n",
    "..1....1..\n",
    ".......1..\n",
    ".112111211\n",
    "..........\n",
    "..........\n",
    "..........\n",
    "..........\n",
    "222111....\n",
    "In this diagram, the top left corner is 0,0 and the bottom right corner is 9,9. Each position is shown as the number of lines which cover that point or . if no line covers that point. The top-left pair of 1s, for example, comes from 2,2 -> 2,1; the very bottom row is formed by the overlapping lines 0,9 -> 5,9 and 0,9 -> 2,9.\n",
    "\n",
    "To avoid the most dangerous areas, you need to determine the number of points where at least two lines overlap. In the above example, this is anywhere in the diagram with a 2 or larger - a total of 5 points.\n",
    "\n",
    "Consider only horizontal and vertical lines. At how many points do at least two lines overlap?"
   ]
  },
  {
   "cell_type": "code",
   "execution_count": 1,
   "id": "f8d2b964-21a6-4bf2-8166-a9c210966e7f",
   "metadata": {},
   "outputs": [
    {
     "data": {
      "text/html": [
       "<div>\n",
       "<style scoped>\n",
       "    .dataframe tbody tr th:only-of-type {\n",
       "        vertical-align: middle;\n",
       "    }\n",
       "\n",
       "    .dataframe tbody tr th {\n",
       "        vertical-align: top;\n",
       "    }\n",
       "\n",
       "    .dataframe thead th {\n",
       "        text-align: right;\n",
       "    }\n",
       "</style>\n",
       "<table border=\"1\" class=\"dataframe\">\n",
       "  <thead>\n",
       "    <tr style=\"text-align: right;\">\n",
       "      <th></th>\n",
       "      <th>x1</th>\n",
       "      <th>y1</th>\n",
       "      <th>x2</th>\n",
       "      <th>y2</th>\n",
       "    </tr>\n",
       "  </thead>\n",
       "  <tbody>\n",
       "    <tr>\n",
       "      <th>0</th>\n",
       "      <td>720</td>\n",
       "      <td>475</td>\n",
       "      <td>720</td>\n",
       "      <td>669</td>\n",
       "    </tr>\n",
       "    <tr>\n",
       "      <th>1</th>\n",
       "      <td>268</td>\n",
       "      <td>784</td>\n",
       "      <td>595</td>\n",
       "      <td>784</td>\n",
       "    </tr>\n",
       "    <tr>\n",
       "      <th>2</th>\n",
       "      <td>163</td>\n",
       "      <td>778</td>\n",
       "      <td>149</td>\n",
       "      <td>778</td>\n",
       "    </tr>\n",
       "    <tr>\n",
       "      <th>3</th>\n",
       "      <td>856</td>\n",
       "      <td>917</td>\n",
       "      <td>856</td>\n",
       "      <td>114</td>\n",
       "    </tr>\n",
       "    <tr>\n",
       "      <th>4</th>\n",
       "      <td>929</td>\n",
       "      <td>964</td>\n",
       "      <td>433</td>\n",
       "      <td>964</td>\n",
       "    </tr>\n",
       "  </tbody>\n",
       "</table>\n",
       "</div>"
      ],
      "text/plain": [
       "    x1   y1   x2   y2\n",
       "0  720  475  720  669\n",
       "1  268  784  595  784\n",
       "2  163  778  149  778\n",
       "3  856  917  856  114\n",
       "4  929  964  433  964"
      ]
     },
     "execution_count": 1,
     "metadata": {},
     "output_type": "execute_result"
    }
   ],
   "source": [
    "import pandas as pd\n",
    "\n",
    "#df1 - dataframe storing coordinates\n",
    "df1 = pd.read_csv('5.txt', header=None, names=['x1', 'y1', 'x2', 'y2'], sep=' -> |,', engine ='python')\n",
    "df1.head()"
   ]
  },
  {
   "cell_type": "code",
   "execution_count": 11,
   "id": "66a974f9-68a0-4907-9830-fe0c92315821",
   "metadata": {},
   "outputs": [],
   "source": [
    "#df2 - dataframe storing Hydrothermal Venture locations\n",
    "df2 = pd.DataFrame(index=range(0,df1.max().max()), columns=range(0,df1.max().max()), data = 0)"
   ]
  },
  {
   "cell_type": "code",
   "execution_count": 68,
   "id": "14f73b1c-4482-44c3-8970-3607395828dd",
   "metadata": {},
   "outputs": [
    {
     "name": "stdout",
     "output_type": "stream",
     "text": [
      "Answer:  7269\n"
     ]
    }
   ],
   "source": [
    "#df2 - dataframe storing Hydrothermal Venture locations\n",
    "df2 = pd.DataFrame(index=range(0,df1.max().max()), columns=range(0,df1.max().max()), data = 0)\n",
    "#i - supporting variable\n",
    "for i in range(len(df1)):\n",
    "    if df1['x1'][i] == df1['x2'][i]:\n",
    "        y_min = min(df1['y1'][i], df1['y2'][i])\n",
    "        y_max = max(df1['y1'][i], df1['y2'][i])+1\n",
    "        df2.iloc[df1['x1'][i], y_min:y_max] = df2.iloc[df1['x1'][i], y_min:y_max].add(1)\n",
    "    elif df1['y1'][i] == df1['y2'][i]:\n",
    "        x_min = min(df1['x1'][i], df1['x2'][i])\n",
    "        x_max = max(df1['x1'][i], df1['x2'][i])+1\n",
    "        df2.iloc[x_min:x_max, df1['y1'][i]] = df2.iloc[x_min:x_max, df1['y1'][i]].add(1)\n",
    "print('Answer: ', df2[df2>1].count().sum())"
   ]
  },
  {
   "cell_type": "raw",
   "id": "56f374ce-6124-4166-9198-e5a9951606ef",
   "metadata": {},
   "source": [
    "--- Part Two ---\n",
    "Unfortunately, considering only horizontal and vertical lines doesn't give you the full picture; you need to also consider diagonal lines.\n",
    "\n",
    "Because of the limits of the hydrothermal vent mapping system, the lines in your list will only ever be horizontal, vertical, or a diagonal line at exactly 45 degrees. In other words:\n",
    "\n",
    "An entry like 1,1 -> 3,3 covers points 1,1, 2,2, and 3,3.\n",
    "An entry like 9,7 -> 7,9 covers points 9,7, 8,8, and 7,9.\n",
    "Considering all lines from the above example would now produce the following diagram:\n",
    "\n",
    "1.1....11.\n",
    ".111...2..\n",
    "..2.1.111.\n",
    "...1.2.2..\n",
    ".112313211\n",
    "...1.2....\n",
    "..1...1...\n",
    ".1.....1..\n",
    "1.......1.\n",
    "222111....\n",
    "You still need to determine the number of points where at least two lines overlap. In the above example, this is still anywhere in the diagram with a 2 or larger - now a total of 12 points.\n",
    "\n",
    "Consider all of the lines. At how many points do at least two lines overlap?"
   ]
  },
  {
   "cell_type": "code",
   "execution_count": 72,
   "id": "6fe88d2b-b0da-4701-ba86-b1bd4b8173f1",
   "metadata": {
    "tags": []
   },
   "outputs": [
    {
     "name": "stdout",
     "output_type": "stream",
     "text": [
      "Answer:  21140\n"
     ]
    }
   ],
   "source": [
    "#df3 - dataframe storing Hydrothermal Venture locations\n",
    "df3 = pd.DataFrame(index=range(0,df1.max().max()), columns=range(0,df1.max().max()), data = 0)\n",
    "\n",
    "#i, j - supporting variable\n",
    "#y_min, x_min - the lower values coordinates\n",
    "#y_max, x_max - the higher values of coordinate - to those we need to add 1, because this side of range is excluded - <min,max)\n",
    "#x_dir, y_dir - defines the directions for the loop - if the diagonal is from bottom right to upper left of bottom left to upper right.\n",
    "#x, y - temp variables for x, y coordinates\n",
    "for i in range(len(df1)):\n",
    "    if df1['x1'][i] == df1['x2'][i] or df1['y1'][i] == df1['y2'][i]:\n",
    "        y_min = min(df1['y1'][i], df1['y2'][i])\n",
    "        y_max = max(df1['y1'][i], df1['y2'][i])+1\n",
    "        x_min = min(df1['x1'][i], df1['x2'][i])\n",
    "        x_max = max(df1['x1'][i], df1['x2'][i])+1        \n",
    "        df3.iloc[x_min:x_max, y_min:y_max] = df3.iloc[x_min:x_max, y_min:y_max].add(1)\n",
    "    else:\n",
    "        x_dir = (df1['x2'][i] - df1['x1'][i]) / abs(df1['x2'][i] - df1['x1'][i])\n",
    "        y_dir = (df1['y2'][i] - df1['y1'][i]) / abs(df1['y2'][i] - df1['y1'][i])\n",
    "        for j in range(abs(df1['x2'][i]-df1['x1'][i])+1):\n",
    "            x = int(df1['x1'][i] + j * x_dir)\n",
    "            y = int(df1['y1'][i] + j * y_dir)\n",
    "            df3.iloc[x, y] = df3.iloc[x, y]+1\n",
    "print('Answer: ', df3[df3>1].count().sum())"
   ]
  },
  {
   "cell_type": "code",
   "execution_count": 102,
   "id": "d8bcc458-fb4f-4b8d-ad2f-7eb74c84545f",
   "metadata": {
    "tags": []
   },
   "outputs": [
    {
     "name": "stdout",
     "output_type": "stream",
     "text": [
      "Answer:  21113\n"
     ]
    }
   ],
   "source": [
    "# #df3 - dataframe storing Hydrothermal Venture locations\n",
    "# df3 = pd.DataFrame(index=range(0,df1.max().max()), columns=range(0,df1.max().max()), data = 0)\n",
    "\n",
    "# #i, j - supporting variable\n",
    "# #y_min, x_min - the lower values coordinates\n",
    "# #y_max, x_max - the higher values of coordinate - to those we need to add 1, because this side of range is excluded - <min,max)\n",
    "# #x_dir, y_dir - defines the directions for the loop - if the diagonal is from bottom right to upper left of bottom left to upper right.\n",
    "# #x, y - temp variables for x, y coordinates\n",
    "# for i in range(len(df1)):\n",
    "#     if df1['x1'][i] == df1['x2'][i] or df1['y1'][i] == df1['y2'][i]:\n",
    "#         y_min = min(df1['y1'][i], df1['y2'][i])\n",
    "#         y_max = max(df1['y1'][i], df1['y2'][i])+1\n",
    "#         x_min = min(df1['x1'][i], df1['x2'][i])\n",
    "#         x_max = max(df1['x1'][i], df1['x2'][i])+1        \n",
    "#         df3.iloc[x_min:x_max, y_min:y_max] = df3.iloc[x_min:x_max, y_min:y_max].add(1)\n",
    "#     else:\n",
    "#         x_dir = int((df1['x2'][i] - df1['x1'][i]) / abs(df1['x2'][i] - df1['x1'][i]))\n",
    "#         y_dir = int((df1['y2'][i] - df1['y1'][i]) / abs(df1['y2'][i] - df1['y1'][i]))\n",
    "#         for x, y in zip(range(df1['x1'][i], df1['x2'][i], x_dir), range(df1['y1'][i], df1['y2'][i], y_dir)):\n",
    "#             #print('x')\n",
    "#             df3.iloc[x, y] = df3.iloc[x, y]+1\n",
    "# print('Answer: ', df3[df3>1].count().sum())"
   ]
  }
 ],
 "metadata": {
  "kernelspec": {
   "display_name": "Python 3 (ipykernel)",
   "language": "python",
   "name": "python3"
  },
  "language_info": {
   "codemirror_mode": {
    "name": "ipython",
    "version": 3
   },
   "file_extension": ".py",
   "mimetype": "text/x-python",
   "name": "python",
   "nbconvert_exporter": "python",
   "pygments_lexer": "ipython3",
   "version": "3.7.12"
  }
 },
 "nbformat": 4,
 "nbformat_minor": 5
}

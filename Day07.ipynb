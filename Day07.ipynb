{
 "cells": [
  {
   "cell_type": "raw",
   "id": "c08822af-9f1a-4434-a600-6df0a0357122",
   "metadata": {},
   "source": [
    "--- Day 7: The Treachery of Whales ---\n",
    "A giant whale has decided your submarine is its next meal, and it's much faster than you are. There's nowhere to run!\n",
    "\n",
    "Suddenly, a swarm of crabs (each in its own tiny submarine - it's too deep for them otherwise) zooms in to rescue you! They seem to be preparing to blast a hole in the ocean floor; sensors indicate a massive underground cave system just beyond where they're aiming!\n",
    "\n",
    "The crab submarines all need to be aligned before they'll have enough power to blast a large enough hole for your submarine to get through. However, it doesn't look like they'll be aligned before the whale catches you! Maybe you can help?\n",
    "\n",
    "There's one major catch - crab submarines can only move horizontally.\n",
    "\n",
    "You quickly make a list of the horizontal position of each crab (your puzzle input). Crab submarines have limited fuel, so you need to find a way to make all of their horizontal positions match while requiring them to spend as little fuel as possible.\n",
    "\n",
    "For example, consider the following horizontal positions:\n",
    "\n",
    "16,1,2,0,4,2,7,1,2,14\n",
    "This means there's a crab with horizontal position 16, a crab with horizontal position 1, and so on.\n",
    "\n",
    "Each change of 1 step in horizontal position of a single crab costs 1 fuel. You could choose any horizontal position to align them all on, but the one that costs the least fuel is horizontal position 2:\n",
    "\n",
    "Move from 16 to 2: 14 fuel\n",
    "Move from 1 to 2: 1 fuel\n",
    "Move from 2 to 2: 0 fuel\n",
    "Move from 0 to 2: 2 fuel\n",
    "Move from 4 to 2: 2 fuel\n",
    "Move from 2 to 2: 0 fuel\n",
    "Move from 7 to 2: 5 fuel\n",
    "Move from 1 to 2: 1 fuel\n",
    "Move from 2 to 2: 0 fuel\n",
    "Move from 14 to 2: 12 fuel\n",
    "This costs a total of 37 fuel. This is the cheapest possible outcome; more expensive outcomes include aligning at position 1 (41 fuel), position 3 (39 fuel), or position 10 (71 fuel).\n",
    "\n",
    "Determine the horizontal position that the crabs can align to using the least fuel possible. How much fuel must they spend to align to that position?"
   ]
  },
  {
   "cell_type": "code",
   "execution_count": 49,
   "id": "a52d2429-0e67-4580-a80c-32c9eae711b5",
   "metadata": {},
   "outputs": [
    {
     "data": {
      "text/html": [
       "<div>\n",
       "<style scoped>\n",
       "    .dataframe tbody tr th:only-of-type {\n",
       "        vertical-align: middle;\n",
       "    }\n",
       "\n",
       "    .dataframe tbody tr th {\n",
       "        vertical-align: top;\n",
       "    }\n",
       "\n",
       "    .dataframe thead th {\n",
       "        text-align: right;\n",
       "    }\n",
       "</style>\n",
       "<table border=\"1\" class=\"dataframe\">\n",
       "  <thead>\n",
       "    <tr style=\"text-align: right;\">\n",
       "      <th></th>\n",
       "      <th>0</th>\n",
       "      <th>1</th>\n",
       "      <th>2</th>\n",
       "      <th>3</th>\n",
       "      <th>4</th>\n",
       "      <th>5</th>\n",
       "      <th>6</th>\n",
       "      <th>7</th>\n",
       "      <th>8</th>\n",
       "      <th>9</th>\n",
       "      <th>...</th>\n",
       "      <th>990</th>\n",
       "      <th>991</th>\n",
       "      <th>992</th>\n",
       "      <th>993</th>\n",
       "      <th>994</th>\n",
       "      <th>995</th>\n",
       "      <th>996</th>\n",
       "      <th>997</th>\n",
       "      <th>998</th>\n",
       "      <th>999</th>\n",
       "    </tr>\n",
       "  </thead>\n",
       "  <tbody>\n",
       "    <tr>\n",
       "      <th>0</th>\n",
       "      <td>1101</td>\n",
       "      <td>1</td>\n",
       "      <td>29</td>\n",
       "      <td>67</td>\n",
       "      <td>1102</td>\n",
       "      <td>0</td>\n",
       "      <td>1</td>\n",
       "      <td>65</td>\n",
       "      <td>1008</td>\n",
       "      <td>65</td>\n",
       "      <td>...</td>\n",
       "      <td>1166</td>\n",
       "      <td>452</td>\n",
       "      <td>1248</td>\n",
       "      <td>379</td>\n",
       "      <td>848</td>\n",
       "      <td>1212</td>\n",
       "      <td>280</td>\n",
       "      <td>444</td>\n",
       "      <td>139</td>\n",
       "      <td>145</td>\n",
       "    </tr>\n",
       "  </tbody>\n",
       "</table>\n",
       "<p>1 rows × 1000 columns</p>\n",
       "</div>"
      ],
      "text/plain": [
       "    0    1    2    3     4    5    6    7     8    9    ...   990  991   992  \\\n",
       "0  1101    1   29   67  1102    0    1   65  1008   65  ...  1166  452  1248   \n",
       "\n",
       "   993  994   995  996  997  998  999  \n",
       "0  379  848  1212  280  444  139  145  \n",
       "\n",
       "[1 rows x 1000 columns]"
      ]
     },
     "execution_count": 49,
     "metadata": {},
     "output_type": "execute_result"
    }
   ],
   "source": [
    "import pandas as pd\n",
    "import statistics\n",
    "import math\n",
    "\n",
    "#df1 - dataframe storing coordinates\n",
    "df1 = pd.read_csv('7.txt', header=None)\n",
    "df1.head()"
   ]
  },
  {
   "cell_type": "code",
   "execution_count": 37,
   "id": "915dd64e-0e08-42b3-893d-e3ae68e8e82f",
   "metadata": {},
   "outputs": [
    {
     "name": "stdout",
     "output_type": "stream",
     "text": [
      "Answer:  337833\n"
     ]
    }
   ],
   "source": [
    "list1 = list(df1.iloc[0])\n",
    "#h - most optimal horizontal position\n",
    "h = int(statistics.median(list1))\n",
    "#dist - combined distane to cover\n",
    "dist = 0\n",
    "for i in range(len(list1)):\n",
    "    dist += abs(list1[i] - h)\n",
    "print('Answer: ', dist)"
   ]
  },
  {
   "cell_type": "raw",
   "id": "7ea5b71a-7eda-411d-96d5-6a51f30f6dca",
   "metadata": {},
   "source": [
    "--- Part Two ---\n",
    "The crabs don't seem interested in your proposed solution. Perhaps you misunderstand crab engineering?\n",
    "\n",
    "As it turns out, crab submarine engines don't burn fuel at a constant rate. Instead, each change of 1 step in horizontal position costs 1 more unit of fuel than the last: the first step costs 1, the second step costs 2, the third step costs 3, and so on.\n",
    "\n",
    "As each crab moves, moving further becomes more expensive. This changes the best horizontal position to align them all on; in the example above, this becomes 5:\n",
    "\n",
    "Move from 16 to 5: 66 fuel\n",
    "Move from 1 to 5: 10 fuel\n",
    "Move from 2 to 5: 6 fuel\n",
    "Move from 0 to 5: 15 fuel\n",
    "Move from 4 to 5: 1 fuel\n",
    "Move from 2 to 5: 6 fuel\n",
    "Move from 7 to 5: 3 fuel\n",
    "Move from 1 to 5: 10 fuel\n",
    "Move from 2 to 5: 6 fuel\n",
    "Move from 14 to 5: 45 fuel\n",
    "This costs a total of 168 fuel. This is the new cheapest possible outcome; the old alignment position (2) now costs 206 fuel instead.\n",
    "\n",
    "Determine the horizontal position that the crabs can align to using the least fuel possible so they can make you an escape route! How much fuel must they spend to align to that position?"
   ]
  },
  {
   "cell_type": "code",
   "execution_count": 90,
   "id": "de50e5ec-5601-4db4-ae92-4114a782e0a0",
   "metadata": {},
   "outputs": [
    {
     "data": {
      "text/html": [
       "<div>\n",
       "<style scoped>\n",
       "    .dataframe tbody tr th:only-of-type {\n",
       "        vertical-align: middle;\n",
       "    }\n",
       "\n",
       "    .dataframe tbody tr th {\n",
       "        vertical-align: top;\n",
       "    }\n",
       "\n",
       "    .dataframe thead th {\n",
       "        text-align: right;\n",
       "    }\n",
       "</style>\n",
       "<table border=\"1\" class=\"dataframe\">\n",
       "  <thead>\n",
       "    <tr style=\"text-align: right;\">\n",
       "      <th></th>\n",
       "      <th>0</th>\n",
       "      <th>1</th>\n",
       "      <th>2</th>\n",
       "      <th>3</th>\n",
       "      <th>4</th>\n",
       "      <th>5</th>\n",
       "      <th>6</th>\n",
       "      <th>7</th>\n",
       "      <th>8</th>\n",
       "      <th>9</th>\n",
       "      <th>...</th>\n",
       "      <th>990</th>\n",
       "      <th>991</th>\n",
       "      <th>992</th>\n",
       "      <th>993</th>\n",
       "      <th>994</th>\n",
       "      <th>995</th>\n",
       "      <th>996</th>\n",
       "      <th>997</th>\n",
       "      <th>998</th>\n",
       "      <th>999</th>\n",
       "    </tr>\n",
       "  </thead>\n",
       "  <tbody>\n",
       "    <tr>\n",
       "      <th>0</th>\n",
       "      <td>1101</td>\n",
       "      <td>1</td>\n",
       "      <td>29</td>\n",
       "      <td>67</td>\n",
       "      <td>1102</td>\n",
       "      <td>0</td>\n",
       "      <td>1</td>\n",
       "      <td>65</td>\n",
       "      <td>1008</td>\n",
       "      <td>65</td>\n",
       "      <td>...</td>\n",
       "      <td>1166</td>\n",
       "      <td>452</td>\n",
       "      <td>1248</td>\n",
       "      <td>379</td>\n",
       "      <td>848</td>\n",
       "      <td>1212</td>\n",
       "      <td>280</td>\n",
       "      <td>444</td>\n",
       "      <td>139</td>\n",
       "      <td>145</td>\n",
       "    </tr>\n",
       "  </tbody>\n",
       "</table>\n",
       "<p>1 rows × 1000 columns</p>\n",
       "</div>"
      ],
      "text/plain": [
       "    0    1    2    3     4    5    6    7     8    9    ...   990  991   992  \\\n",
       "0  1101    1   29   67  1102    0    1   65  1008   65  ...  1166  452  1248   \n",
       "\n",
       "   993  994   995  996  997  998  999  \n",
       "0  379  848  1212  280  444  139  145  \n",
       "\n",
       "[1 rows x 1000 columns]"
      ]
     },
     "execution_count": 90,
     "metadata": {},
     "output_type": "execute_result"
    }
   ],
   "source": [
    "import pandas as pd\n",
    "import statistics\n",
    "import math\n",
    "\n",
    "#df1 - dataframe storing coordinates\n",
    "df1 = pd.read_csv('7.txt', header=None)\n",
    "df1.head()"
   ]
  },
  {
   "cell_type": "code",
   "execution_count": 91,
   "id": "d9898f5c-a252-4709-92c0-42f1f6dd05f1",
   "metadata": {},
   "outputs": [],
   "source": [
    "list2 = list(df1.iloc[0])"
   ]
  },
  {
   "cell_type": "code",
   "execution_count": 92,
   "id": "b9b1dcc1-3e9b-4769-8d93-df1b65568d1d",
   "metadata": {},
   "outputs": [],
   "source": [
    "#fuel - function to calculate cost for given distance\n",
    "def fuel(n):\n",
    "    a = 0\n",
    "    for i in range(n+1):\n",
    "        a += i\n",
    "    return a"
   ]
  },
  {
   "cell_type": "code",
   "execution_count": 100,
   "id": "9d39f31a-838d-48aa-9721-6c69c5daef90",
   "metadata": {
    "tags": []
   },
   "outputs": [
    {
     "name": "stdout",
     "output_type": "stream",
     "text": [
      "Answer:  96678050\n"
     ]
    }
   ],
   "source": [
    "#positions - dictionary storing amount of fuel needed for all submarines to get to the given position\n",
    "positions = dict.fromkeys(range(max(list2)+1),0)\n",
    "temp_fuel = float('inf')\n",
    "for pos in range(max(list2)+1): #adding distance for each position\n",
    "    for sub in set(list2): #checking all submarines\n",
    "        count = list2.count(sub)\n",
    "        positions[pos] += count * fuel(abs(sub-pos))\n",
    "    if temp_fuel < positions[pos]:\n",
    "        break\n",
    "    else:\n",
    "        temp_fuel = positions[pos]\n",
    "print('Answer: ', temp_fuel)"
   ]
  },
  {
   "cell_type": "code",
   "execution_count": null,
   "id": "06881c56-a636-4940-a8bd-b1359e9033a3",
   "metadata": {},
   "outputs": [],
   "source": []
  }
 ],
 "metadata": {
  "kernelspec": {
   "display_name": "Python 3 (ipykernel)",
   "language": "python",
   "name": "python3"
  },
  "language_info": {
   "codemirror_mode": {
    "name": "ipython",
    "version": 3
   },
   "file_extension": ".py",
   "mimetype": "text/x-python",
   "name": "python",
   "nbconvert_exporter": "python",
   "pygments_lexer": "ipython3",
   "version": "3.7.12"
  }
 },
 "nbformat": 4,
 "nbformat_minor": 5
}

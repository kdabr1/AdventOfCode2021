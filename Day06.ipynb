{
 "cells": [
  {
   "cell_type": "raw",
   "id": "64c2f87f-27eb-4481-a3de-703ada4af71d",
   "metadata": {},
   "source": [
    "--- Day 6: Lanternfish ---\n",
    "The sea floor is getting steeper. Maybe the sleigh keys got carried this way?\n",
    "\n",
    "A massive school of glowing lanternfish swims past. They must spawn quickly to reach such large numbers - maybe exponentially quickly? You should model their growth rate to be sure.\n",
    "\n",
    "Although you know nothing about this specific species of lanternfish, you make some guesses about their attributes. Surely, each lanternfish creates a new lanternfish once every 7 days.\n",
    "\n",
    "However, this process isn't necessarily synchronized between every lanternfish - one lanternfish might have 2 days left until it creates another lanternfish, while another might have 4. So, you can model each fish as a single number that represents the number of days until it creates a new lanternfish.\n",
    "\n",
    "Furthermore, you reason, a new lanternfish would surely need slightly longer before it's capable of producing more lanternfish: two more days for its first cycle.\n",
    "\n",
    "So, suppose you have a lanternfish with an internal timer value of 3:\n",
    "\n",
    "After one day, its internal timer would become 2.\n",
    "After another day, its internal timer would become 1.\n",
    "After another day, its internal timer would become 0.\n",
    "After another day, its internal timer would reset to 6, and it would create a new lanternfish with an internal timer of 8.\n",
    "After another day, the first lanternfish would have an internal timer of 5, and the second lanternfish would have an internal timer of 7.\n",
    "A lanternfish that creates a new fish resets its timer to 6, not 7 (because 0 is included as a valid timer value). The new lanternfish starts with an internal timer of 8 and does not start counting down until the next day.\n",
    "\n",
    "Realizing what you're trying to do, the submarine automatically produces a list of the ages of several hundred nearby lanternfish (your puzzle input). For example, suppose you were given the following list:\n",
    "\n",
    "3,4,3,1,2\n",
    "This list means that the first fish has an internal timer of 3, the second fish has an internal timer of 4, and so on until the fifth fish, which has an internal timer of 2. Simulating these fish over several days would proceed as follows:\n",
    "\n",
    "Initial state: 3,4,3,1,2\n",
    "After  1 day:  2,3,2,0,1\n",
    "After  2 days: 1,2,1,6,0,8\n",
    "After  3 days: 0,1,0,5,6,7,8\n",
    "After  4 days: 6,0,6,4,5,6,7,8,8\n",
    "After  5 days: 5,6,5,3,4,5,6,7,7,8\n",
    "After  6 days: 4,5,4,2,3,4,5,6,6,7\n",
    "After  7 days: 3,4,3,1,2,3,4,5,5,6\n",
    "After  8 days: 2,3,2,0,1,2,3,4,4,5\n",
    "After  9 days: 1,2,1,6,0,1,2,3,3,4,8\n",
    "After 10 days: 0,1,0,5,6,0,1,2,2,3,7,8\n",
    "After 11 days: 6,0,6,4,5,6,0,1,1,2,6,7,8,8,8\n",
    "After 12 days: 5,6,5,3,4,5,6,0,0,1,5,6,7,7,7,8,8\n",
    "After 13 days: 4,5,4,2,3,4,5,6,6,0,4,5,6,6,6,7,7,8,8\n",
    "After 14 days: 3,4,3,1,2,3,4,5,5,6,3,4,5,5,5,6,6,7,7,8\n",
    "After 15 days: 2,3,2,0,1,2,3,4,4,5,2,3,4,4,4,5,5,6,6,7\n",
    "After 16 days: 1,2,1,6,0,1,2,3,3,4,1,2,3,3,3,4,4,5,5,6,8\n",
    "After 17 days: 0,1,0,5,6,0,1,2,2,3,0,1,2,2,2,3,3,4,4,5,7,8\n",
    "After 18 days: 6,0,6,4,5,6,0,1,1,2,6,0,1,1,1,2,2,3,3,4,6,7,8,8,8,8\n",
    "Each day, a 0 becomes a 6 and adds a new 8 to the end of the list, while each other number decreases by 1 if it was present at the start of the day.\n",
    "\n",
    "In this example, after 18 days, there are a total of 26 fish. After 80 days, there would be a total of 5934.\n",
    "\n",
    "Find a way to simulate lanternfish. How many lanternfish would there be after 80 days?"
   ]
  },
  {
   "cell_type": "code",
   "execution_count": 1,
   "id": "9c730084-1ff9-451a-9f88-ee54abe7d235",
   "metadata": {},
   "outputs": [
    {
     "data": {
      "text/html": [
       "<div>\n",
       "<style scoped>\n",
       "    .dataframe tbody tr th:only-of-type {\n",
       "        vertical-align: middle;\n",
       "    }\n",
       "\n",
       "    .dataframe tbody tr th {\n",
       "        vertical-align: top;\n",
       "    }\n",
       "\n",
       "    .dataframe thead th {\n",
       "        text-align: right;\n",
       "    }\n",
       "</style>\n",
       "<table border=\"1\" class=\"dataframe\">\n",
       "  <thead>\n",
       "    <tr style=\"text-align: right;\">\n",
       "      <th></th>\n",
       "      <th>0</th>\n",
       "      <th>1</th>\n",
       "      <th>2</th>\n",
       "      <th>3</th>\n",
       "      <th>4</th>\n",
       "      <th>5</th>\n",
       "      <th>6</th>\n",
       "      <th>7</th>\n",
       "      <th>8</th>\n",
       "      <th>9</th>\n",
       "      <th>...</th>\n",
       "      <th>290</th>\n",
       "      <th>291</th>\n",
       "      <th>292</th>\n",
       "      <th>293</th>\n",
       "      <th>294</th>\n",
       "      <th>295</th>\n",
       "      <th>296</th>\n",
       "      <th>297</th>\n",
       "      <th>298</th>\n",
       "      <th>299</th>\n",
       "    </tr>\n",
       "  </thead>\n",
       "  <tbody>\n",
       "    <tr>\n",
       "      <th>0</th>\n",
       "      <td>1</td>\n",
       "      <td>4</td>\n",
       "      <td>3</td>\n",
       "      <td>3</td>\n",
       "      <td>1</td>\n",
       "      <td>3</td>\n",
       "      <td>1</td>\n",
       "      <td>1</td>\n",
       "      <td>1</td>\n",
       "      <td>2</td>\n",
       "      <td>...</td>\n",
       "      <td>1</td>\n",
       "      <td>1</td>\n",
       "      <td>1</td>\n",
       "      <td>1</td>\n",
       "      <td>1</td>\n",
       "      <td>1</td>\n",
       "      <td>1</td>\n",
       "      <td>5</td>\n",
       "      <td>5</td>\n",
       "      <td>1</td>\n",
       "    </tr>\n",
       "  </tbody>\n",
       "</table>\n",
       "<p>1 rows × 300 columns</p>\n",
       "</div>"
      ],
      "text/plain": [
       "   0    1    2    3    4    5    6    7    8    9    ...  290  291  292  293  \\\n",
       "0    1    4    3    3    1    3    1    1    1    2  ...    1    1    1    1   \n",
       "\n",
       "   294  295  296  297  298  299  \n",
       "0    1    1    1    5    5    1  \n",
       "\n",
       "[1 rows x 300 columns]"
      ]
     },
     "execution_count": 1,
     "metadata": {},
     "output_type": "execute_result"
    }
   ],
   "source": [
    "import pandas as pd\n",
    "\n",
    "#df1 - dataframe storing coordinates\n",
    "df1 = pd.read_csv('6.txt', header=None)\n",
    "df1.head()"
   ]
  },
  {
   "cell_type": "code",
   "execution_count": 48,
   "id": "62f3f23d-00f8-4327-a91a-31279b79b5d9",
   "metadata": {
    "tags": []
   },
   "outputs": [
    {
     "name": "stdout",
     "output_type": "stream",
     "text": [
      "Answer:  379114\n"
     ]
    }
   ],
   "source": [
    "list1 = list(df1.iloc[0])\n",
    "for i in range(80):\n",
    "    if list1.count(0) > 0: list1.extend([9] * list1.count(0))\n",
    "    for j in range(len(list1)):\n",
    "        if list1[j] == 0:\n",
    "            list1[j] = 7\n",
    "    list1[:] = [number - 1 for number in list1]\n",
    "print('Answer: ', len(list1))"
   ]
  },
  {
   "cell_type": "code",
   "execution_count": 4,
   "id": "03391099-329f-4835-8998-070dd5eff576",
   "metadata": {
    "tags": []
   },
   "outputs": [
    {
     "name": "stdout",
     "output_type": "stream",
     "text": [
      "Answer:  379114\n"
     ]
    }
   ],
   "source": [
    "list1 = list(df1.iloc[0])\n",
    "for i in range(80):\n",
    "    if list1.count(0) > 0: list1.extend([9] * list1.count(0))\n",
    "    list1 = list(map(lambda x: 7 if x == 0 else x, list1))\n",
    "    list1[:] = [number - 1 for number in list1]\n",
    "print('Answer: ', len(list1))"
   ]
  },
  {
   "cell_type": "raw",
   "id": "77c88163-d1c9-42e4-8db1-da56991175bb",
   "metadata": {},
   "source": [
    "--- Part Two ---\n",
    "Suppose the lanternfish live forever and have unlimited food and space. Would they take over the entire ocean?\n",
    "\n",
    "After 256 days in the example above, there would be a total of 26984457539 lanternfish!\n",
    "\n",
    "How many lanternfish would there be after 256 days?"
   ]
  },
  {
   "cell_type": "code",
   "execution_count": 86,
   "id": "16191dca-ede1-4e1b-b9be-f0ae2f917ffc",
   "metadata": {},
   "outputs": [],
   "source": [
    "df2 = pd.read_csv('6.txt', header=None)\n",
    "list2 = list(df2.iloc[0])"
   ]
  },
  {
   "cell_type": "code",
   "execution_count": 91,
   "id": "08627af0-7a19-421b-846e-d7a355731693",
   "metadata": {},
   "outputs": [],
   "source": [
    "#dict1 - dictionary storing number of lanternfishes of each internal timer\n",
    "dict1 = dict.fromkeys(range(9),0)\n",
    "for i in dict1: dict1[i] = list2.count(i)"
   ]
  },
  {
   "cell_type": "code",
   "execution_count": 92,
   "id": "7bfff91c-470b-490a-801f-af2e4cc92a81",
   "metadata": {},
   "outputs": [
    {
     "name": "stdout",
     "output_type": "stream",
     "text": [
      "Answer:  1702631502303\n"
     ]
    }
   ],
   "source": [
    "#zeros - temp storage for lanternfishes in 'maternal age'\n",
    "zeros = dict1[0]\n",
    "for i in range(256):\n",
    "    for j in dict1: \n",
    "        try:\n",
    "            dict1[j] = dict1[j+1]\n",
    "        except:\n",
    "            pass\n",
    "    dict1[8] = zeros\n",
    "    dict1[6] += zeros\n",
    "    zeros = dict1[0]\n",
    "print('Answer: ', sum(dict1.values()))"
   ]
  },
  {
   "cell_type": "code",
   "execution_count": null,
   "id": "2b63e3d3-778e-4699-b6d0-07a0ee6f0621",
   "metadata": {},
   "outputs": [],
   "source": []
  }
 ],
 "metadata": {
  "kernelspec": {
   "display_name": "Python 3 (ipykernel)",
   "language": "python",
   "name": "python3"
  },
  "language_info": {
   "codemirror_mode": {
    "name": "ipython",
    "version": 3
   },
   "file_extension": ".py",
   "mimetype": "text/x-python",
   "name": "python",
   "nbconvert_exporter": "python",
   "pygments_lexer": "ipython3",
   "version": "3.7.12"
  }
 },
 "nbformat": 4,
 "nbformat_minor": 5
}

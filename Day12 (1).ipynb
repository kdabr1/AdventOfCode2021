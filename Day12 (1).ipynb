{
 "cells": [
  {
   "cell_type": "raw",
   "id": "5a26022d-9b9f-4545-b304-2b22dad07d55",
   "metadata": {
    "tags": []
   },
   "source": [
    "--- Day 12: Passage Pathing ---\n",
    "With your submarine's subterranean subsystems subsisting suboptimally, the only way you're getting out of this cave anytime soon is by finding a path yourself. Not just a path - the only way to know if you've found the best path is to find all of them.\n",
    "\n",
    "Fortunately, the sensors are still mostly working, and so you build a rough map of the remaining caves (your puzzle input). For example:\n",
    "\n",
    "start-A\n",
    "start-b\n",
    "A-c\n",
    "A-b\n",
    "b-d\n",
    "A-end\n",
    "b-end\n",
    "This is a list of how all of the caves are connected. You start in the cave named start, and your destination is the cave named end. An entry like b-d means that cave b is connected to cave d - that is, you can move between them.\n",
    "\n",
    "So, the above cave system looks roughly like this:\n",
    "\n",
    "    start\n",
    "    /   \\\n",
    "c--A-----b--d\n",
    "    \\   /\n",
    "     end\n",
    "Your goal is to find the number of distinct paths that start at start, end at end, and don't visit small caves more than once. There are two types of caves: big caves (written in uppercase, like A) and small caves (written in lowercase, like b). It would be a waste of time to visit any small cave more than once, but big caves are large enough that it might be worth visiting them multiple times. So, all paths you find should visit small caves at most once, and can visit big caves any number of times.\n",
    "\n",
    "Given these rules, there are 10 paths through this example cave system:\n",
    "\n",
    "start,A,b,A,c,A,end\n",
    "start,A,b,A,end\n",
    "start,A,b,end\n",
    "start,A,c,A,b,A,end\n",
    "start,A,c,A,b,end\n",
    "start,A,c,A,end\n",
    "start,A,end\n",
    "start,b,A,c,A,end\n",
    "start,b,A,end\n",
    "start,b,end\n",
    "(Each line in the above list corresponds to a single path; the caves visited by that path are listed in the order they are visited and separated by commas.)\n",
    "\n",
    "Note that in this cave system, cave d is never visited by any path: to do so, cave b would need to be visited twice (once on the way to cave d and a second time when returning from cave d), and since cave b is small, this is not allowed.\n",
    "\n",
    "Here is a slightly larger example:\n",
    "\n",
    "dc-end\n",
    "HN-start\n",
    "start-kj\n",
    "dc-start\n",
    "dc-HN\n",
    "LN-dc\n",
    "HN-end\n",
    "kj-sa\n",
    "kj-HN\n",
    "kj-dc\n",
    "The 19 paths through it are as follows:\n",
    "\n",
    "start,HN,dc,HN,end\n",
    "start,HN,dc,HN,kj,HN,end\n",
    "start,HN,dc,end\n",
    "start,HN,dc,kj,HN,end\n",
    "start,HN,end\n",
    "start,HN,kj,HN,dc,HN,end\n",
    "start,HN,kj,HN,dc,end\n",
    "start,HN,kj,HN,end\n",
    "start,HN,kj,dc,HN,end\n",
    "start,HN,kj,dc,end\n",
    "start,dc,HN,end\n",
    "start,dc,HN,kj,HN,end\n",
    "start,dc,end\n",
    "start,dc,kj,HN,end\n",
    "start,kj,HN,dc,HN,end\n",
    "start,kj,HN,dc,end\n",
    "start,kj,HN,end\n",
    "start,kj,dc,HN,end\n",
    "start,kj,dc,end\n",
    "Finally, this even larger example has 226 paths through it:\n",
    "\n",
    "fs-end\n",
    "he-DX\n",
    "fs-he\n",
    "start-DX\n",
    "pj-DX\n",
    "end-zg\n",
    "zg-sl\n",
    "zg-pj\n",
    "pj-he\n",
    "RW-he\n",
    "fs-DX\n",
    "pj-RW\n",
    "zg-RW\n",
    "start-pj\n",
    "he-WI\n",
    "zg-he\n",
    "pj-fs\n",
    "start-RW\n",
    "How many paths through this cave system are there that visit small caves at most once?"
   ]
  },
  {
   "cell_type": "code",
   "execution_count": 206,
   "id": "f0b601b8-f269-4f01-ab04-cf3d936a91d9",
   "metadata": {},
   "outputs": [
    {
     "data": {
      "text/html": [
       "<div>\n",
       "<style scoped>\n",
       "    .dataframe tbody tr th:only-of-type {\n",
       "        vertical-align: middle;\n",
       "    }\n",
       "\n",
       "    .dataframe tbody tr th {\n",
       "        vertical-align: top;\n",
       "    }\n",
       "\n",
       "    .dataframe thead th {\n",
       "        text-align: right;\n",
       "    }\n",
       "</style>\n",
       "<table border=\"1\" class=\"dataframe\">\n",
       "  <thead>\n",
       "    <tr style=\"text-align: right;\">\n",
       "      <th></th>\n",
       "      <th>A</th>\n",
       "      <th>B</th>\n",
       "    </tr>\n",
       "  </thead>\n",
       "  <tbody>\n",
       "    <tr>\n",
       "      <th>0</th>\n",
       "      <td>zs</td>\n",
       "      <td>WO</td>\n",
       "    </tr>\n",
       "    <tr>\n",
       "      <th>1</th>\n",
       "      <td>zs</td>\n",
       "      <td>QJ</td>\n",
       "    </tr>\n",
       "    <tr>\n",
       "      <th>2</th>\n",
       "      <td>WO</td>\n",
       "      <td>zt</td>\n",
       "    </tr>\n",
       "    <tr>\n",
       "      <th>3</th>\n",
       "      <td>zs</td>\n",
       "      <td>DP</td>\n",
       "    </tr>\n",
       "    <tr>\n",
       "      <th>4</th>\n",
       "      <td>WO</td>\n",
       "      <td>end</td>\n",
       "    </tr>\n",
       "  </tbody>\n",
       "</table>\n",
       "</div>"
      ],
      "text/plain": [
       "    A    B\n",
       "0  zs   WO\n",
       "1  zs   QJ\n",
       "2  WO   zt\n",
       "3  zs   DP\n",
       "4  WO  end"
      ]
     },
     "execution_count": 206,
     "metadata": {},
     "output_type": "execute_result"
    }
   ],
   "source": [
    "import pandas as pd\n",
    "\n",
    "df = pd.read_csv('12.txt', names = ['A','B'], sep='-', header=None)\n",
    "df.head()"
   ]
  },
  {
   "cell_type": "code",
   "execution_count": 207,
   "id": "a2af4da7-21c4-4c4c-8e69-be05676ad5f5",
   "metadata": {},
   "outputs": [],
   "source": [
    "con = {}\n",
    "for i in df.index:\n",
    "    if df['A'][i] not in con:\n",
    "        con[df['A'][i]] = [df['B'][i]]\n",
    "    elif df['B'][i] not in con[df['A'][i]]:\n",
    "        con[df['A'][i]].append(df['B'][i])\n",
    "    if df['B'][i] not in con:\n",
    "        con[df['B'][i]] = [df['A'][i]]\n",
    "    elif df['A'][i] not in con[df['B'][i]]:\n",
    "        con[df['B'][i]].append(df['A'][i])    "
   ]
  },
  {
   "cell_type": "code",
   "execution_count": 208,
   "id": "fbc84823-a197-40d0-92b8-d787ed94a326",
   "metadata": {
    "tags": []
   },
   "outputs": [
    {
     "data": {
      "text/plain": [
       "{'zs': ['WO', 'QJ', 'DP', 'HW', 'SK', 'end'],\n",
       " 'WO': ['zs', 'zt', 'end', 'iu', 'gv', 'start'],\n",
       " 'QJ': ['zs'],\n",
       " 'zt': ['WO', 'gv', 'HW', 'start'],\n",
       " 'DP': ['zs', 'gv', 'by', 'iu'],\n",
       " 'end': ['WO', 'HW', 'zs'],\n",
       " 'gv': ['zt', 'WO', 'start', 'DP', 'HW'],\n",
       " 'iu': ['SK', 'WO', 'HW', 'DP'],\n",
       " 'SK': ['iu', 'zs'],\n",
       " 'HW': ['zs', 'zt', 'iu', 'gv', 'end'],\n",
       " 'start': ['gv', 'WO', 'zt'],\n",
       " 'by': ['DP']}"
      ]
     },
     "execution_count": 208,
     "metadata": {},
     "output_type": "execute_result"
    }
   ],
   "source": [
    "con"
   ]
  },
  {
   "cell_type": "code",
   "execution_count": 139,
   "id": "7fb20de7-3e68-4697-877e-af721069c34e",
   "metadata": {
    "tags": []
   },
   "outputs": [],
   "source": [
    "def Rec():\n",
    "    global paths\n",
    "    global curr_path\n",
    "    for move in con[curr_path[-1]]:\n",
    "        if move != move.upper() and move in curr_path:\n",
    "            continue     \n",
    "        if move == 'end':\n",
    "            curr_path.append(move)\n",
    "            paths.append(curr_path.copy())\n",
    "            curr_path.pop()\n",
    "        else:\n",
    "            curr_path.append(move)\n",
    "            Rec()\n",
    "            curr_path.pop()\n",
    "    return(len(paths))"
   ]
  },
  {
   "cell_type": "code",
   "execution_count": 140,
   "id": "ab591e66-3350-481c-a10b-4c4565e7a22b",
   "metadata": {
    "tags": []
   },
   "outputs": [
    {
     "name": "stdout",
     "output_type": "stream",
     "text": [
      "Answer:  3738\n"
     ]
    }
   ],
   "source": [
    "curr_path = ['start']\n",
    "paths = []\n",
    "print('Answer: ', Rec())"
   ]
  },
  {
   "cell_type": "raw",
   "id": "626dba16-50a3-4b48-ad90-fc2b46652ea2",
   "metadata": {},
   "source": [
    "--- Part Two ---\n",
    "After reviewing the available paths, you realize you might have time to visit a single small cave twice. Specifically, big caves can be visited any number of times, a single small cave can be visited at most twice, and the remaining small caves can be visited at most once. However, the caves named start and end can only be visited exactly once each: once you leave the start cave, you may not return to it, and once you reach the end cave, the path must end immediately.\n",
    "\n",
    "Now, the 36 possible paths through the first example above are:\n",
    "\n",
    "start,A,b,A,b,A,c,A,end\n",
    "start,A,b,A,b,A,end\n",
    "start,A,b,A,b,end\n",
    "start,A,b,A,c,A,b,A,end\n",
    "start,A,b,A,c,A,b,end\n",
    "start,A,b,A,c,A,c,A,end\n",
    "start,A,b,A,c,A,end\n",
    "start,A,b,A,end\n",
    "start,A,b,d,b,A,c,A,end\n",
    "start,A,b,d,b,A,end\n",
    "start,A,b,d,b,end\n",
    "start,A,b,end\n",
    "start,A,c,A,b,A,b,A,end\n",
    "start,A,c,A,b,A,b,end\n",
    "start,A,c,A,b,A,c,A,end\n",
    "start,A,c,A,b,A,end\n",
    "start,A,c,A,b,d,b,A,end\n",
    "start,A,c,A,b,d,b,end\n",
    "start,A,c,A,b,end\n",
    "start,A,c,A,c,A,b,A,end\n",
    "start,A,c,A,c,A,b,end\n",
    "start,A,c,A,c,A,end\n",
    "start,A,c,A,end\n",
    "start,A,end\n",
    "start,b,A,b,A,c,A,end\n",
    "start,b,A,b,A,end\n",
    "start,b,A,b,end\n",
    "start,b,A,c,A,b,A,end\n",
    "start,b,A,c,A,b,end\n",
    "start,b,A,c,A,c,A,end\n",
    "start,b,A,c,A,end\n",
    "start,b,A,end\n",
    "start,b,d,b,A,c,A,end\n",
    "start,b,d,b,A,end\n",
    "start,b,d,b,end\n",
    "start,b,end\n",
    "The slightly larger example above now has 103 paths through it, and the even larger example now has 3509 paths through it.\n",
    "\n",
    "Given these new rules, how many paths through this cave system are there?"
   ]
  },
  {
   "cell_type": "code",
   "execution_count": 204,
   "id": "68ae363f-4144-41d1-b643-d673d60a9b60",
   "metadata": {},
   "outputs": [],
   "source": [
    "def Rec2():\n",
    "    global paths\n",
    "    global curr_path\n",
    "    global check\n",
    "    for move in con[curr_path[-1]]:\n",
    "        for el in set(curr_path):\n",
    "            if el.upper() != el and curr_path.count(el) > 1: \n",
    "                check = False\n",
    "                break\n",
    "            elif el.upper() != el and curr_path.count(el) <= 1: check = True\n",
    "        if move == move.upper(): pass\n",
    "        elif move == 'start': continue\n",
    "        elif move not in curr_path or check: pass\n",
    "        else: continue\n",
    "        if move == 'end':\n",
    "            curr_path.append(move)\n",
    "            paths.append(curr_path.copy())\n",
    "            curr_path.pop()      \n",
    "        else:\n",
    "            curr_path.append(move)\n",
    "            Rec2()\n",
    "            curr_path.pop()\n",
    "    return(len(paths))"
   ]
  },
  {
   "cell_type": "code",
   "execution_count": 211,
   "id": "2667dd94-b198-4dfa-a3da-dc88e2d804df",
   "metadata": {
    "tags": []
   },
   "outputs": [
    {
     "name": "stdout",
     "output_type": "stream",
     "text": [
      "Answer:  120506\n"
     ]
    }
   ],
   "source": [
    "curr_path = ['start']\n",
    "paths = []\n",
    "check = True\n",
    "print('Answer: ', Rec2())"
   ]
  }
 ],
 "metadata": {
  "kernelspec": {
   "display_name": "Python 3 (ipykernel)",
   "language": "python",
   "name": "python3"
  },
  "language_info": {
   "codemirror_mode": {
    "name": "ipython",
    "version": 3
   },
   "file_extension": ".py",
   "mimetype": "text/x-python",
   "name": "python",
   "nbconvert_exporter": "python",
   "pygments_lexer": "ipython3",
   "version": "3.7.12"
  }
 },
 "nbformat": 4,
 "nbformat_minor": 5
}
